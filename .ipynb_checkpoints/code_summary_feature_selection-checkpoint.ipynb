{
 "cells": [
  {
   "cell_type": "code",
   "execution_count": null,
   "id": "2ff1331a",
   "metadata": {},
   "outputs": [],
   "source": [
    "####### feature selection #######\n",
    "\n",
    "# 모델을 구성하는 주요 피처들을 선택\n",
    "    # 불 필요한 다수의 피처들로 인해 모델 성능을 떨어뜨릴 가능성 제거\n",
    "    # 설명 가능한 모델이 될 수 있도록 피처들을 선별\n",
    "    \n",
    "    # 피처들이 아무리 많아도 안정된 성능을 나타내는 경우도 있음.\n",
    "    # 피처들이 너무 많으면 overfitting이 될 수 있음.\n",
    "    \n",
    "# 유형\n",
    "    # 피처값의 분포, null, 피처간 높은 상관도, 결정값과의 독립성등을 고려.\n",
    "    #### 모델의 피처 중요도(Feature importance) 기반 (지니 계수)\n",
    "    \n",
    "# 사이킷런 feature selection 지원\n",
    "    # RFE(Recursive Feature Elimination)\n",
    "    # 1. 모델 최초 학습 후 feature 중요도 선정\n",
    "    # 2. feature 중요도가 낮은 속성들을 차례로 제거해 가면서 반복적으로 학습/평가를 수행하여 최적 feature 추출\n",
    "    # 3. 수행시간이 오래 걸리고, 낮은 속성들을 제거해 나가는 메커니즘이 정확한 feature selection을 찾는 목표에 정확히 부합하지 않을 수 있음.\n",
    "    # 경우의 수가 너무 많아, 보통 데이터 크기가 작은 데이터 셋에 적용 -> 선생님은 이거 안쓰심. \n",
    "    \n",
    "    # SelectFromModel\n",
    "        # 모델 최초 학습 후 선정된 Feature 중요도에 따라 평균/중앙값의 특정 비율 이상인 Feature들을 선택. "
   ]
  },
  {
   "cell_type": "code",
   "execution_count": null,
   "id": "1ef9a34b",
   "metadata": {},
   "outputs": [],
   "source": []
  },
  {
   "cell_type": "code",
   "execution_count": null,
   "id": "e9e65b1c",
   "metadata": {},
   "outputs": [],
   "source": [
    "#### permutation importance ####\n",
    "    # 특정 피처들의 값을 완전히 변조했을 때 모델 성능이 얼마나 저하되는지를 기준으로 해당 피처의 중요도를 산정\n",
    "    # 학습 데이터를 제거하거나/변조하면 다시 재 학습을 수행해야 하므로 수행시간이 오래걸림.\n",
    "    # 일반적으로 테스트 데이터(검증 데이터)에 특정 피처들을 반복적으로 변조한 뒤 해당 피처의 중요도를 평균적으로 산정. \n",
    "    \n",
    "    # ftr1을 k번 random shuffling \n",
    "    # ftr1이 중요 feature이면 evaluation 성능이 감소. \n",
    "    # 원본 evaluation score에서 평균적으로 얼마나 성능이 감소했는지 계산해서 ftr1의 평균 evalution score 계산.\n",
    "    \n",
    "    # 프로세스\n",
    "    # 1. 원본 모델의 기준 평가 성능을 설정.\n",
    "    # 2. 개별 feature별로 아래 수행\n",
    "        # 1. 설정된 iteration 값 별로 아래 수행\n",
    "            # 1. 해당 feature로 shuffle\n",
    "            # 2. 모델 성능 평가.\n",
    "        # 2. 기준 평가 성능에서 모델 성능이 얼마나 저하되었는지 평가. "
   ]
  },
  {
   "cell_type": "code",
   "execution_count": null,
   "id": "f63c316b",
   "metadata": {},
   "outputs": [],
   "source": []
  },
  {
   "cell_type": "code",
   "execution_count": null,
   "id": "b6688a66",
   "metadata": {},
   "outputs": [],
   "source": [
    "#### 왜 feature importance는 절대적인 feature selection 기준이 될 수 없는가? ####\n",
    "\n",
    "# 1. feature importance는 최적 tree 구조를 만들기 위한 피처들의 impurity가 중요 기준임. (feature importance for tree) \n",
    "# 높아질 수 있음 결정 값과 관련이 없어도 feature importance가\n",
    "# 2. feature importance는 학습 데이터를 기반으로 생성됨. 테스트 데이터에서는 달라질 수 있음.\n",
    "# 3. feature importance는 number형의 높은 cardinality feature에 biased 되어 있음. (id)"
   ]
  },
  {
   "cell_type": "code",
   "execution_count": null,
   "id": "25465aa0",
   "metadata": {},
   "outputs": [],
   "source": [
    "# permutation importance vs Random Forest Importance"
   ]
  },
  {
   "cell_type": "code",
   "execution_count": null,
   "id": "aa4456bf",
   "metadata": {},
   "outputs": [],
   "source": []
  },
  {
   "cell_type": "code",
   "execution_count": null,
   "id": "c47cd01a",
   "metadata": {},
   "outputs": [],
   "source": []
  },
  {
   "cell_type": "code",
   "execution_count": null,
   "id": "5b99c4aa",
   "metadata": {},
   "outputs": [],
   "source": []
  },
  {
   "cell_type": "code",
   "execution_count": null,
   "id": "49425270",
   "metadata": {},
   "outputs": [],
   "source": []
  },
  {
   "cell_type": "code",
   "execution_count": null,
   "id": "cb8ba25e",
   "metadata": {},
   "outputs": [],
   "source": []
  },
  {
   "cell_type": "code",
   "execution_count": null,
   "id": "025749a8",
   "metadata": {},
   "outputs": [],
   "source": []
  },
  {
   "cell_type": "code",
   "execution_count": null,
   "id": "0db0c848",
   "metadata": {},
   "outputs": [],
   "source": []
  },
  {
   "cell_type": "code",
   "execution_count": null,
   "id": "3964dcbc",
   "metadata": {},
   "outputs": [],
   "source": []
  },
  {
   "cell_type": "code",
   "execution_count": null,
   "id": "83ff2ff9",
   "metadata": {},
   "outputs": [],
   "source": []
  },
  {
   "cell_type": "code",
   "execution_count": null,
   "id": "187c0d87",
   "metadata": {},
   "outputs": [],
   "source": []
  },
  {
   "cell_type": "code",
   "execution_count": null,
   "id": "2d01a995",
   "metadata": {},
   "outputs": [],
   "source": []
  },
  {
   "cell_type": "code",
   "execution_count": null,
   "id": "0a69e12a",
   "metadata": {},
   "outputs": [],
   "source": []
  },
  {
   "cell_type": "code",
   "execution_count": null,
   "id": "6f68ff0b",
   "metadata": {},
   "outputs": [],
   "source": []
  },
  {
   "cell_type": "code",
   "execution_count": null,
   "id": "cebab281",
   "metadata": {},
   "outputs": [],
   "source": []
  },
  {
   "cell_type": "code",
   "execution_count": null,
   "id": "f6ac2578",
   "metadata": {},
   "outputs": [],
   "source": []
  },
  {
   "cell_type": "code",
   "execution_count": null,
   "id": "17aadb34",
   "metadata": {},
   "outputs": [],
   "source": []
  },
  {
   "cell_type": "code",
   "execution_count": null,
   "id": "04a1a699",
   "metadata": {},
   "outputs": [],
   "source": []
  }
 ],
 "metadata": {
  "kernelspec": {
   "display_name": "Python 3 (ipykernel)",
   "language": "python",
   "name": "python3"
  },
  "language_info": {
   "codemirror_mode": {
    "name": "ipython",
    "version": 3
   },
   "file_extension": ".py",
   "mimetype": "text/x-python",
   "name": "python",
   "nbconvert_exporter": "python",
   "pygments_lexer": "ipython3",
   "version": "3.9.12"
  },
  "toc": {
   "base_numbering": 1,
   "nav_menu": {},
   "number_sections": true,
   "sideBar": true,
   "skip_h1_title": false,
   "title_cell": "Table of Contents",
   "title_sidebar": "Contents",
   "toc_cell": false,
   "toc_position": {},
   "toc_section_display": true,
   "toc_window_display": false
  },
  "varInspector": {
   "cols": {
    "lenName": 16,
    "lenType": 16,
    "lenVar": 40
   },
   "kernels_config": {
    "python": {
     "delete_cmd_postfix": "",
     "delete_cmd_prefix": "del ",
     "library": "var_list.py",
     "varRefreshCmd": "print(var_dic_list())"
    },
    "r": {
     "delete_cmd_postfix": ") ",
     "delete_cmd_prefix": "rm(",
     "library": "var_list.r",
     "varRefreshCmd": "cat(var_dic_list()) "
    }
   },
   "types_to_exclude": [
    "module",
    "function",
    "builtin_function_or_method",
    "instance",
    "_Feature"
   ],
   "window_display": false
  }
 },
 "nbformat": 4,
 "nbformat_minor": 5
}
