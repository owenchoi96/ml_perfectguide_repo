{
 "cells": [
  {
   "cell_type": "code",
   "execution_count": 2,
   "id": "e0bae6e1",
   "metadata": {},
   "outputs": [],
   "source": [
    "from sklearn.tree import DecisionTreeClassifier\n",
    "# 예시 데이터로 아이리스 데이터\n",
    "# from sklearn.datasets import load_iris \n",
    "from sklearn.model_selection import train_test_split\n",
    "import warnings\n",
    "warnings.filterwarnings('ignore')"
   ]
  },
  {
   "cell_type": "code",
   "execution_count": null,
   "id": "b207089e",
   "metadata": {},
   "outputs": [],
   "source": [
    "#################################################\n",
    "# graphiz로 트리 모형 시각화\n",
    "#################################################\n",
    "\n",
    "# 1. DecisionTree Classifier 생성\n",
    "dt_clf = DecisionTreeClassifier(random_state=156)\n",
    "\n",
    "# 2. 예시 데이터: 트레인 셋과 테스트 셋으로 분리\n",
    "iris_data = load_iris()\n",
    "X_train, X_test, y_train, y_test = train_test_split(iris_data.data, \n",
    "                                                      iris_data.target, \n",
    "                                                      test_size=.2, \n",
    "                                                      random_sate=11)\n",
    "# 3. DecisionTree Classifier 학습\n",
    "dt_clf.fit(X_traink, y_train)\n",
    "\n",
    "# 4. graphviz로 시각화\n",
    "from sklearn.tree import export_graphviz\n",
    "# export_graphviz()의 호출 결과로 out_file로 지정된 tree.dot 파일을 생성함.\n",
    "export_graphviz(dt_clf, out_file='tree.dot', class_names=iris_data.target_names, \\\n",
    "                feature_names=iris_data.feature_names, impurity=True, filled=True)\n",
    "\n",
    "import graphviz\n",
    "# 위에서 생성된 tree.dot 파일을 Graphviz로 읽어서 jupyter notebook상에서 시각화\n",
    "with open('tree.dot') as f:\n",
    "    dot_graph = f.read()\n",
    "graphviz.Source(dot_graph) # Source에 넣기"
   ]
  },
  {
   "cell_type": "code",
   "execution_count": null,
   "id": "13a78aa4",
   "metadata": {},
   "outputs": [],
   "source": [
    "#################################################\n",
    "# feature_importances_시각화\n",
    "#################################################\n",
    "\n",
    "import seaborn as sns\n",
    "sns.barplot(\n",
    "    x=iris_data.feature_names,\n",
    "    y=dt_clf.feature_importances_ # 트리 계의 모델에서는 대부분 feature_importances_가 있음.\n",
    ")\n",
    "\n",
    "for name, val in zip(iris_data.feature_names, dt_clf.feature_importances_):\n",
    "    print (\"{0}의 중요도는: {1: .3f}\".format(name, val))\n",
    "    "
   ]
  },
  {
   "cell_type": "code",
   "execution_count": null,
   "id": "4e99bdf0",
   "metadata": {},
   "outputs": [],
   "source": [
    "#################################################\n",
    "# 결정 트리 정확도 구하는 순서\n",
    "#################################################\n",
    "\n",
    "from sklearn.tree import DecisionTreeClassifier\n",
    "from sklearn.metrics import accuracy_score\n",
    "\n",
    "dt_clf = DecisionTreeClassifier(random_state=156)\n",
    "dt_clf.fit(X_train, y_train)\n",
    "pred = df_clf.predict(X_test)\n",
    "accuracy = accuracy_score(y_test, pred)\n",
    "# 결정트리 예측 정확도\n",
    "print(accuracy)\n",
    "\n",
    "# 결정트리 하이퍼 파라미터 추출\n",
    "dt_clf.get_params"
   ]
  },
  {
   "cell_type": "code",
   "execution_count": null,
   "id": "a0d732d5",
   "metadata": {},
   "outputs": [],
   "source": [
    "#########################################################\n",
    "# GridSearchCV 사용하여 최고의 하이퍼 파라미터를 찾고 정확도 예측하기#\n",
    "#########################################################\n",
    "from sklearn.model_selection import GridSearchCV\n",
    "params = {\n",
    "    'max_depth' : [8,10,12,16,20],\n",
    "    'min_samples_split' : [16,24]\n",
    "}\n",
    "\n",
    "grid_cv = GridSearchCV(dt_clf, param_grid = params, scoring='accuracy', cv=5, verbose = 1)\n",
    "grid_cv.fit(X_train, y_train)\n",
    "print('GridSearchCV 최고 평균 정확도 수치 : {0: .4f}'.format(grid_cv.best_score_))\n",
    "print('GridSearchCV 최적 하이퍼 파라미터:', grid_cv.best_params_)\n",
    "\n",
    "# 결과를 cv_results_로 구할 수 있음.\n",
    "cv_result_df = pd.DataFrame(grid_cv.cv_results_)\n",
    "cv_result_df[['param_max_depth', 'mean_test_score', 'rank_test_score']]\n",
    "\n",
    "# best_estimator_로 predict\n",
    "best_dt_clf = grid_cv.best_estimator_\n",
    "pred1 = best_dt_clf.predict(X_test)\n",
    "accuracy = accuracy_score(y_test, pred1)\n",
    "print('결정 트리 예측 정확도: {0: .4f}'.format(accuracy))\n",
    "\n",
    "# 마지막으로 중요한 features들 확인하기\n",
    "ftr_importances_values = best_dt_clf.feature_importances_\n",
    "ftr_importances = pd.Series(ftr_importances_values, index=X_train.columns)\n",
    "ftr_top_20 = ftr_importances.sort_values(ascending=False)[:20]\n",
    "plt.figure(figsize=(8,6))\n",
    "plt.title('Feature importances Top 20')\n",
    "sns.barplot(x=ftr_top_20, y=ftr_top_20.index)\n",
    "plt.show()"
   ]
  },
  {
   "cell_type": "code",
   "execution_count": null,
   "id": "bf21e875",
   "metadata": {},
   "outputs": [],
   "source": []
  },
  {
   "cell_type": "code",
   "execution_count": null,
   "id": "ca4ffe06",
   "metadata": {},
   "outputs": [],
   "source": []
  },
  {
   "cell_type": "code",
   "execution_count": null,
   "id": "25a7e336",
   "metadata": {},
   "outputs": [],
   "source": []
  }
 ],
 "metadata": {
  "kernelspec": {
   "display_name": "Python 3 (ipykernel)",
   "language": "python",
   "name": "python3"
  },
  "language_info": {
   "codemirror_mode": {
    "name": "ipython",
    "version": 3
   },
   "file_extension": ".py",
   "mimetype": "text/x-python",
   "name": "python",
   "nbconvert_exporter": "python",
   "pygments_lexer": "ipython3",
   "version": "3.9.12"
  },
  "toc": {
   "base_numbering": 1,
   "nav_menu": {},
   "number_sections": true,
   "sideBar": true,
   "skip_h1_title": false,
   "title_cell": "Table of Contents",
   "title_sidebar": "Contents",
   "toc_cell": false,
   "toc_position": {},
   "toc_section_display": true,
   "toc_window_display": false
  },
  "varInspector": {
   "cols": {
    "lenName": 16,
    "lenType": 16,
    "lenVar": 40
   },
   "kernels_config": {
    "python": {
     "delete_cmd_postfix": "",
     "delete_cmd_prefix": "del ",
     "library": "var_list.py",
     "varRefreshCmd": "print(var_dic_list())"
    },
    "r": {
     "delete_cmd_postfix": ") ",
     "delete_cmd_prefix": "rm(",
     "library": "var_list.r",
     "varRefreshCmd": "cat(var_dic_list()) "
    }
   },
   "types_to_exclude": [
    "module",
    "function",
    "builtin_function_or_method",
    "instance",
    "_Feature"
   ],
   "window_display": false
  }
 },
 "nbformat": 4,
 "nbformat_minor": 5
}
